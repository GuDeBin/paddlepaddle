{
 "cells": [
  {
   "cell_type": "code",
   "execution_count": 2,
   "metadata": {},
   "outputs": [
    {
     "name": "stderr",
     "output_type": "stream",
     "text": [
      "C:\\Users\\gudeb\\AppData\\Local\\Packages\\PythonSoftwareFoundation.Python.3.10_qbz5n2kfra8p0\\LocalCache\\local-packages\\Python310\\site-packages\\tqdm\\auto.py:21: TqdmWarning: IProgress not found. Please update jupyter and ipywidgets. See https://ipywidgets.readthedocs.io/en/stable/user_install.html\n",
      "  from .autonotebook import tqdm as notebook_tqdm\n",
      "C:\\Program Files\\WindowsApps\\PythonSoftwareFoundation.Python.3.10_3.10.3056.0_x64__qbz5n2kfra8p0\\lib\\site-packages\\_distutils_hack\\__init__.py:33: UserWarning: Setuptools is replacing distutils.\n",
      "  warnings.warn(\"Setuptools is replacing distutils.\")\n",
      "\u001b[32m[2023-04-18 18:12:32,037] [    INFO]\u001b[0m - We are using <class 'paddlenlp.transformers.ernie.tokenizer.ErnieTokenizer'> to load 'C:\\Users\\gudeb\\.paddlenlp\\taskflow\\information_extraction\\uie-base'.\u001b[0m\n"
     ]
    },
    {
     "name": "stdout",
     "output_type": "stream",
     "text": [
      "[{'店名': [{'end': 7,\n",
      "          'probability': 0.758605240575001,\n",
      "          'start': 2,\n",
      "          'text': '龙吟大江户'}]}]\n"
     ]
    }
   ],
   "source": [
    "from pprint import pprint\n",
    "from paddlenlp import Taskflow\n",
    "\n",
    "schema = ['店名']\n",
    "ie = Taskflow(\"information_extraction\", schema=schema)\n",
    "pprint(ie(\"这家龙吟大江户坐落在华侨豪生酒店内，坐电梯到7楼即可，晚餐5点15分开始，记得提前预约要不然没位置，这家大江户算旗舰店，绝对是环境最好的一家。\"))"
   ]
  },
  {
   "cell_type": "code",
   "execution_count": 5,
   "metadata": {},
   "outputs": [
    {
     "ename": "ImportError",
     "evalue": "Please install the dependencies first, pip install paddleocr",
     "output_type": "error",
     "traceback": [
      "\u001b[1;31m---------------------------------------------------------------------------\u001b[0m",
      "\u001b[1;31mModuleNotFoundError\u001b[0m                       Traceback (most recent call last)",
      "File \u001b[1;32m~\\AppData\\Local\\Packages\\PythonSoftwareFoundation.Python.3.10_qbz5n2kfra8p0\\LocalCache\\local-packages\\Python310\\site-packages\\paddlenlp\\taskflow\\task.py:169\u001b[0m, in \u001b[0;36mTask._construct_ocr_engine\u001b[1;34m(self, lang, use_angle_cls)\u001b[0m\n\u001b[0;32m    168\u001b[0m \u001b[39mtry\u001b[39;00m:\n\u001b[1;32m--> 169\u001b[0m     \u001b[39mfrom\u001b[39;00m \u001b[39mpaddleocr\u001b[39;00m \u001b[39mimport\u001b[39;00m PaddleOCR\n\u001b[0;32m    170\u001b[0m \u001b[39mexcept\u001b[39;00m \u001b[39mImportError\u001b[39;00m:\n",
      "\u001b[1;31mModuleNotFoundError\u001b[0m: No module named 'paddleocr'",
      "\nDuring handling of the above exception, another exception occurred:\n",
      "\u001b[1;31mImportError\u001b[0m                               Traceback (most recent call last)",
      "Cell \u001b[1;32mIn[5], line 1\u001b[0m\n\u001b[1;32m----> 1\u001b[0m docprompt \u001b[39m=\u001b[39m Taskflow(\u001b[39m'\u001b[39;49m\u001b[39mdocument_intelligence\u001b[39;49m\u001b[39m'\u001b[39;49m)\n\u001b[0;32m      2\u001b[0m pprint(docprompt([{\u001b[39m'\u001b[39m\u001b[39mdoc\u001b[39m\u001b[39m'\u001b[39m:\u001b[39m'\u001b[39m\u001b[39m./work/resume.png\u001b[39m\u001b[39m'\u001b[39m,\u001b[39m'\u001b[39m\u001b[39mprompt\u001b[39m\u001b[39m'\u001b[39m:[\u001b[39m\"\u001b[39m\u001b[39m五百丁本次想要担任的是什么职位?\u001b[39m\u001b[39m\"\u001b[39m, \u001b[39m\"\u001b[39m\u001b[39m五百丁是在哪里上的大学?\u001b[39m\u001b[39m\"\u001b[39m, \u001b[39m\"\u001b[39m\u001b[39m大学学的是什么专业?\u001b[39m\u001b[39m\"\u001b[39m]}]))\n",
      "File \u001b[1;32m~\\AppData\\Local\\Packages\\PythonSoftwareFoundation.Python.3.10_qbz5n2kfra8p0\\LocalCache\\local-packages\\Python310\\site-packages\\paddlenlp\\taskflow\\taskflow.py:837\u001b[0m, in \u001b[0;36mTaskflow.__init__\u001b[1;34m(self, task, model, mode, device_id, from_hf_hub, **kwargs)\u001b[0m\n\u001b[0;32m    835\u001b[0m \u001b[39mself\u001b[39m\u001b[39m.\u001b[39mkwargs \u001b[39m=\u001b[39m kwargs\n\u001b[0;32m    836\u001b[0m task_class \u001b[39m=\u001b[39m TASKS[\u001b[39mself\u001b[39m\u001b[39m.\u001b[39mtask][tag][\u001b[39mself\u001b[39m\u001b[39m.\u001b[39mmodel][\u001b[39m\"\u001b[39m\u001b[39mtask_class\u001b[39m\u001b[39m\"\u001b[39m]\n\u001b[1;32m--> 837\u001b[0m \u001b[39mself\u001b[39m\u001b[39m.\u001b[39mtask_instance \u001b[39m=\u001b[39m task_class(\n\u001b[0;32m    838\u001b[0m     model\u001b[39m=\u001b[39m\u001b[39mself\u001b[39m\u001b[39m.\u001b[39mmodel, task\u001b[39m=\u001b[39m\u001b[39mself\u001b[39m\u001b[39m.\u001b[39mtask, priority_path\u001b[39m=\u001b[39m\u001b[39mself\u001b[39m\u001b[39m.\u001b[39mpriority_path, from_hf_hub\u001b[39m=\u001b[39mfrom_hf_hub, \u001b[39m*\u001b[39m\u001b[39m*\u001b[39m\u001b[39mself\u001b[39m\u001b[39m.\u001b[39mkwargs\n\u001b[0;32m    839\u001b[0m )\n\u001b[0;32m    840\u001b[0m task_list \u001b[39m=\u001b[39m TASKS\u001b[39m.\u001b[39mkeys()\n\u001b[0;32m    841\u001b[0m Taskflow\u001b[39m.\u001b[39mtask_list \u001b[39m=\u001b[39m task_list\n",
      "File \u001b[1;32m~\\AppData\\Local\\Packages\\PythonSoftwareFoundation.Python.3.10_qbz5n2kfra8p0\\LocalCache\\local-packages\\Python310\\site-packages\\paddlenlp\\taskflow\\document_intelligence.py:65\u001b[0m, in \u001b[0;36mDocPromptTask.__init__\u001b[1;34m(self, task, model, **kwargs)\u001b[0m\n\u001b[0;32m     63\u001b[0m \u001b[39mself\u001b[39m\u001b[39m.\u001b[39m_topn \u001b[39m=\u001b[39m kwargs\u001b[39m.\u001b[39mget(\u001b[39m\"\u001b[39m\u001b[39mtopn\u001b[39m\u001b[39m\"\u001b[39m, \u001b[39m1\u001b[39m)\n\u001b[0;32m     64\u001b[0m \u001b[39mself\u001b[39m\u001b[39m.\u001b[39m_lang \u001b[39m=\u001b[39m kwargs\u001b[39m.\u001b[39mget(\u001b[39m\"\u001b[39m\u001b[39mlang\u001b[39m\u001b[39m\"\u001b[39m, \u001b[39m\"\u001b[39m\u001b[39mch\u001b[39m\u001b[39m\"\u001b[39m)\n\u001b[1;32m---> 65\u001b[0m \u001b[39mself\u001b[39;49m\u001b[39m.\u001b[39;49m_construct_ocr_engine(lang\u001b[39m=\u001b[39;49m\u001b[39mself\u001b[39;49m\u001b[39m.\u001b[39;49m_lang)\n\u001b[0;32m     66\u001b[0m \u001b[39mself\u001b[39m\u001b[39m.\u001b[39m_usage \u001b[39m=\u001b[39m usage\n\u001b[0;32m     67\u001b[0m download_file(\u001b[39mself\u001b[39m\u001b[39m.\u001b[39m_task_path, \u001b[39m\"\u001b[39m\u001b[39mdocprompt_params.tar\u001b[39m\u001b[39m\"\u001b[39m, URLS[\u001b[39mself\u001b[39m\u001b[39m.\u001b[39mmodel][\u001b[39m0\u001b[39m], URLS[\u001b[39mself\u001b[39m\u001b[39m.\u001b[39mmodel][\u001b[39m1\u001b[39m])\n",
      "File \u001b[1;32m~\\AppData\\Local\\Packages\\PythonSoftwareFoundation.Python.3.10_qbz5n2kfra8p0\\LocalCache\\local-packages\\Python310\\site-packages\\paddlenlp\\taskflow\\task.py:171\u001b[0m, in \u001b[0;36mTask._construct_ocr_engine\u001b[1;34m(self, lang, use_angle_cls)\u001b[0m\n\u001b[0;32m    169\u001b[0m     \u001b[39mfrom\u001b[39;00m \u001b[39mpaddleocr\u001b[39;00m \u001b[39mimport\u001b[39;00m PaddleOCR\n\u001b[0;32m    170\u001b[0m \u001b[39mexcept\u001b[39;00m \u001b[39mImportError\u001b[39;00m:\n\u001b[1;32m--> 171\u001b[0m     \u001b[39mraise\u001b[39;00m \u001b[39mImportError\u001b[39;00m(\u001b[39m\"\u001b[39m\u001b[39mPlease install the dependencies first, pip install paddleocr\u001b[39m\u001b[39m\"\u001b[39m)\n\u001b[0;32m    172\u001b[0m use_gpu \u001b[39m=\u001b[39m \u001b[39mFalse\u001b[39;00m \u001b[39mif\u001b[39;00m paddle\u001b[39m.\u001b[39mget_device() \u001b[39m==\u001b[39m \u001b[39m\"\u001b[39m\u001b[39mcpu\u001b[39m\u001b[39m\"\u001b[39m \u001b[39melse\u001b[39;00m \u001b[39mTrue\u001b[39;00m\n\u001b[0;32m    173\u001b[0m \u001b[39mself\u001b[39m\u001b[39m.\u001b[39m_ocr \u001b[39m=\u001b[39m PaddleOCR(use_angle_cls\u001b[39m=\u001b[39muse_angle_cls, show_log\u001b[39m=\u001b[39m\u001b[39mFalse\u001b[39;00m, use_gpu\u001b[39m=\u001b[39muse_gpu, lang\u001b[39m=\u001b[39mlang)\n",
      "\u001b[1;31mImportError\u001b[0m: Please install the dependencies first, pip install paddleocr"
     ]
    }
   ],
   "source": [
    "docprompt = Taskflow('document_intelligence')\n",
    "pprint(docprompt([{'doc':'./work/resume.png','prompt':[\"五百丁本次想要担任的是什么职位?\", \"五百丁是在哪里上的大学?\", \"大学学的是什么专业?\"]}]))"
   ]
  }
 ],
 "metadata": {
  "kernelspec": {
   "display_name": "Python 3",
   "language": "python",
   "name": "python3"
  },
  "language_info": {
   "codemirror_mode": {
    "name": "ipython",
    "version": 3
   },
   "file_extension": ".py",
   "mimetype": "text/x-python",
   "name": "python",
   "nbconvert_exporter": "python",
   "pygments_lexer": "ipython3",
   "version": "3.10.11"
  },
  "orig_nbformat": 4
 },
 "nbformat": 4,
 "nbformat_minor": 2
}
