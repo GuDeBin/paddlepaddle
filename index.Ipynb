{
 "cells": [
  {
   "cell_type": "code",
   "execution_count": 1,
   "metadata": {},
   "outputs": [
    {
     "name": "stderr",
     "output_type": "stream",
     "text": [
      "/home/gdb/.local/lib/python3.10/site-packages/tqdm/auto.py:21: TqdmWarning: IProgress not found. Please update jupyter and ipywidgets. See https://ipywidgets.readthedocs.io/en/stable/user_install.html\n",
      "  from .autonotebook import tqdm as notebook_tqdm\n",
      "\u001b[32m[2023-04-18 18:45:13,262] [    INFO]\u001b[0m - We are using <class 'paddlenlp.transformers.ernie.tokenizer.ErnieTokenizer'> to load '/home/gdb/.paddlenlp/taskflow/information_extraction/uie-base'.\u001b[0m\n"
     ]
    },
    {
     "name": "stdout",
     "output_type": "stream",
     "text": [
      "[{'店名': [{'end': 7,\n",
      "          'probability': 0.758605240575001,\n",
      "          'start': 2,\n",
      "          'text': '龙吟大江户'}]}]\n"
     ]
    }
   ],
   "source": [
    "from pprint import pprint\n",
    "from paddlenlp import Taskflow\n",
    "\n",
    "schema = ['店名']\n",
    "ie = Taskflow(\"information_extraction\", schema=schema)\n",
    "pprint(ie(\"这家龙吟大江户坐落在华侨豪生酒店内，坐电梯到7楼即可，晚餐5点15分开始，记得提前预约要不然没位置，这家大江户算旗舰店，绝对是环境最好的一家。\"))"
   ]
  },
  {
   "cell_type": "code",
   "execution_count": 2,
   "metadata": {},
   "outputs": [
    {
     "name": "stderr",
     "output_type": "stream",
     "text": [
      "E0418 18:45:26.601538  1821 analysis_config.cc:855] EnableMKLDNN() only works when IR optimization is enabled.\n",
      "\u001b[32m[2023-04-18 18:45:31,696] [    INFO]\u001b[0m - We are using <class 'paddlenlp.transformers.ernie_layout.tokenizer.ErnieLayoutTokenizer'> to load 'ernie-layoutx-base-uncased'.\u001b[0m\n",
      "\u001b[32m[2023-04-18 18:45:31,699] [    INFO]\u001b[0m - Already cached /home/gdb/.paddlenlp/models/ernie-layoutx-base-uncased/vocab.txt\u001b[0m\n",
      "\u001b[32m[2023-04-18 18:45:31,701] [    INFO]\u001b[0m - Already cached /home/gdb/.paddlenlp/models/ernie-layoutx-base-uncased/sentencepiece.bpe.model\u001b[0m\n",
      "\u001b[32m[2023-04-18 18:45:32,432] [    INFO]\u001b[0m - tokenizer config file saved in /home/gdb/.paddlenlp/models/ernie-layoutx-base-uncased/tokenizer_config.json\u001b[0m\n",
      "\u001b[32m[2023-04-18 18:45:32,434] [    INFO]\u001b[0m - Special tokens file saved in /home/gdb/.paddlenlp/models/ernie-layoutx-base-uncased/special_tokens_map.json\u001b[0m\n"
     ]
    },
    {
     "ename": "",
     "evalue": "",
     "output_type": "error",
     "traceback": [
      "\u001b[1;31mCanceled future for execute_request message before replies were done"
     ]
    },
    {
     "ename": "",
     "evalue": "",
     "output_type": "error",
     "traceback": [
      "\u001b[1;31m在当前单元格或上一个单元格中执行代码时 Kernel 崩溃。请查看单元格中的代码，以确定故障的可能原因。有关详细信息，请单击 <a href='https://aka.ms/vscodeJupyterKernelCrash'>此处</a>。有关更多详细信息，请查看 Jupyter <a href='command:jupyter.viewOutput'>log</a>。"
     ]
    }
   ],
   "source": [
    "docprompt = Taskflow('document_intelligence')\n",
    "pprint(docprompt([{'doc':'./work/resume.png','prompt':[\"五百丁本次想要担任的是什么职位?\", \"五百丁是在哪里上的大学?\", \"大学学的是什么专业?\"]}]))"
   ]
  }
 ],
 "metadata": {
  "kernelspec": {
   "display_name": "Python 3",
   "language": "python",
   "name": "python3"
  },
  "language_info": {
   "codemirror_mode": {
    "name": "ipython",
    "version": 3
   },
   "file_extension": ".py",
   "mimetype": "text/x-python",
   "name": "python",
   "nbconvert_exporter": "python",
   "pygments_lexer": "ipython3",
   "version": "3.10.6"
  },
  "orig_nbformat": 4
 },
 "nbformat": 4,
 "nbformat_minor": 2
}
