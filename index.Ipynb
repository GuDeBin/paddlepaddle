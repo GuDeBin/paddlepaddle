{
 "cells": [
  {
   "cell_type": "code",
   "execution_count": 1,
   "metadata": {},
   "outputs": [
    {
     "name": "stderr",
     "output_type": "stream",
     "text": [
      "C:\\Users\\gudeb\\AppData\\Local\\Packages\\PythonSoftwareFoundation.Python.3.10_qbz5n2kfra8p0\\LocalCache\\local-packages\\Python310\\site-packages\\tqdm\\auto.py:21: TqdmWarning: IProgress not found. Please update jupyter and ipywidgets. See https://ipywidgets.readthedocs.io/en/stable/user_install.html\n",
      "  from .autonotebook import tqdm as notebook_tqdm\n",
      "C:\\Program Files\\WindowsApps\\PythonSoftwareFoundation.Python.3.10_3.10.3056.0_x64__qbz5n2kfra8p0\\lib\\site-packages\\_distutils_hack\\__init__.py:33: UserWarning: Setuptools is replacing distutils.\n",
      "  warnings.warn(\"Setuptools is replacing distutils.\")\n",
      "\u001b[32m[2023-04-18 19:22:39,562] [    INFO]\u001b[0m - We are using <class 'paddlenlp.transformers.ernie.tokenizer.ErnieTokenizer'> to load 'C:\\Users\\gudeb\\.paddlenlp\\taskflow\\information_extraction\\uie-base'.\u001b[0m\n"
     ]
    },
    {
     "name": "stdout",
     "output_type": "stream",
     "text": [
      "[{'店名': [{'end': 7,\n",
      "          'probability': 0.758605240575001,\n",
      "          'start': 2,\n",
      "          'text': '龙吟大江户'}]}]\n"
     ]
    }
   ],
   "source": [
    "from pprint import pprint\n",
    "from paddlenlp import Taskflow\n",
    "\n",
    "schema = ['店名']\n",
    "ie = Taskflow(\"information_extraction\", schema=schema)\n",
    "pprint(ie(\"这家龙吟大江户坐落在华侨豪生酒店内，坐电梯到7楼即可，晚餐5点15分开始，记得提前预约要不然没位置，这家大江户算旗舰店，绝对是环境最好的一家。\"))"
   ]
  },
  {
   "cell_type": "code",
   "execution_count": 2,
   "metadata": {},
   "outputs": [
    {
     "name": "stdout",
     "output_type": "stream",
     "text": [
      "download https://paddleocr.bj.bcebos.com/PP-OCRv3/chinese/ch_PP-OCRv3_det_infer.tar to C:\\Users\\gudeb/.paddleocr/whl\\det\\ch\\ch_PP-OCRv3_det_infer\\ch_PP-OCRv3_det_infer.tar\n"
     ]
    },
    {
     "name": "stderr",
     "output_type": "stream",
     "text": [
      "100%|██████████| 3.83M/3.83M [00:00<00:00, 6.46MiB/s]\n"
     ]
    },
    {
     "name": "stdout",
     "output_type": "stream",
     "text": [
      "download https://paddleocr.bj.bcebos.com/PP-OCRv3/chinese/ch_PP-OCRv3_rec_infer.tar to C:\\Users\\gudeb/.paddleocr/whl\\rec\\ch\\ch_PP-OCRv3_rec_infer\\ch_PP-OCRv3_rec_infer.tar\n"
     ]
    },
    {
     "name": "stderr",
     "output_type": "stream",
     "text": [
      "100%|██████████| 11.9M/11.9M [00:01<00:00, 8.88MiB/s]\n"
     ]
    },
    {
     "name": "stdout",
     "output_type": "stream",
     "text": [
      "download https://paddleocr.bj.bcebos.com/dygraph_v2.0/ch/ch_ppocr_mobile_v2.0_cls_infer.tar to C:\\Users\\gudeb/.paddleocr/whl\\cls\\ch_ppocr_mobile_v2.0_cls_infer\\ch_ppocr_mobile_v2.0_cls_infer.tar\n"
     ]
    },
    {
     "name": "stderr",
     "output_type": "stream",
     "text": [
      "100%|██████████| 2.19M/2.19M [00:02<00:00, 900kiB/s] \n",
      "\u001b[32m[2023-04-18 19:22:51,819] [    INFO]\u001b[0m - Downloading docprompt_params.tar from https://bj.bcebos.com/paddlenlp/taskflow/document_intelligence/docprompt/docprompt_params.tar\u001b[0m\n",
      "100%|██████████| 2.01G/2.01G [03:09<00:00, 11.4MB/s]\n",
      "\u001b[32m[2023-04-18 19:26:25,364] [    INFO]\u001b[0m - We are using <class 'paddlenlp.transformers.ernie_layout.tokenizer.ErnieLayoutTokenizer'> to load 'ernie-layoutx-base-uncased'.\u001b[0m\n",
      "\u001b[32m[2023-04-18 19:26:25,366] [    INFO]\u001b[0m - Downloading https://bj.bcebos.com/paddlenlp/models/transformers/ernie_layout/vocab.txt and saved to C:\\Users\\gudeb\\.paddlenlp\\models\\ernie-layoutx-base-uncased\u001b[0m\n",
      "\u001b[32m[2023-04-18 19:26:26,151] [    INFO]\u001b[0m - Downloading vocab.txt from https://bj.bcebos.com/paddlenlp/models/transformers/ernie_layout/vocab.txt\u001b[0m\n",
      "100%|██████████| 2.70M/2.70M [00:02<00:00, 1.09MB/s]\n",
      "\u001b[32m[2023-04-18 19:26:28,990] [    INFO]\u001b[0m - Downloading https://bj.bcebos.com/paddlenlp/models/transformers/ernie_layout/sentencepiece.bpe.model and saved to C:\\Users\\gudeb\\.paddlenlp\\models\\ernie-layoutx-base-uncased\u001b[0m\n",
      "\u001b[32m[2023-04-18 19:26:29,193] [    INFO]\u001b[0m - Downloading sentencepiece.bpe.model from https://bj.bcebos.com/paddlenlp/models/transformers/ernie_layout/sentencepiece.bpe.model\u001b[0m\n",
      "100%|██████████| 4.83M/4.83M [00:02<00:00, 1.85MB/s]\n",
      "\u001b[32m[2023-04-18 19:26:32,925] [    INFO]\u001b[0m - tokenizer config file saved in C:\\Users\\gudeb\\.paddlenlp\\models\\ernie-layoutx-base-uncased\\tokenizer_config.json\u001b[0m\n",
      "\u001b[32m[2023-04-18 19:26:32,928] [    INFO]\u001b[0m - Special tokens file saved in C:\\Users\\gudeb\\.paddlenlp\\models\\ernie-layoutx-base-uncased\\special_tokens_map.json\u001b[0m\n"
     ]
    },
    {
     "name": "stdout",
     "output_type": "stream",
     "text": [
      "[{'prompt': '五百丁本次想要担任的是什么职位?',\n",
      "  'result': [{'end': 7, 'prob': 1.0, 'start': 4, 'value': '客户经理'}]},\n",
      " {'prompt': '五百丁是在哪里上的大学?',\n",
      "  'result': [{'end': 37, 'prob': 1.0, 'start': 31, 'value': '广州五百丁学院'}]},\n",
      " {'prompt': '大学学的是什么专业?',\n",
      "  'result': [{'end': 44, 'prob': 0.82, 'start': 38, 'value': '金融学(本科）'}]}]\n"
     ]
    }
   ],
   "source": [
    "docprompt = Taskflow('document_intelligence')\n",
    "pprint(docprompt([{'doc':'./work/resume.png','prompt':[\"五百丁本次想要担任的是什么职位?\", \"五百丁是在哪里上的大学?\", \"大学学的是什么专业?\"]}]))"
   ]
  },
  {
   "attachments": {},
   "cell_type": "markdown",
   "metadata": {},
   "source": [
    "再进一步的话，本地已经做不了什么事了，全部都得在线上做"
   ]
  },
  {
   "cell_type": "code",
   "execution_count": null,
   "metadata": {},
   "outputs": [],
   "source": []
  }
 ],
 "metadata": {
  "kernelspec": {
   "display_name": "Python 3",
   "language": "python",
   "name": "python3"
  },
  "language_info": {
   "codemirror_mode": {
    "name": "ipython",
    "version": 3
   },
   "file_extension": ".py",
   "mimetype": "text/x-python",
   "name": "python",
   "nbconvert_exporter": "python",
   "pygments_lexer": "ipython3",
   "version": "3.10.11"
  },
  "orig_nbformat": 4
 },
 "nbformat": 4,
 "nbformat_minor": 2
}
