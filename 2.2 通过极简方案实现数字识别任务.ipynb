{
 "cells": [
  {
   "cell_type": "code",
   "execution_count": 1,
   "metadata": {},
   "outputs": [],
   "source": [
    "#加载飞桨和相关类库\n",
    "import paddle\n",
    "from paddle.nn import Linear\n",
    "import paddle.nn.functional as F\n",
    "import os\n",
    "import numpy as np\n",
    "import matplotlib.pyplot as plt"
   ]
  },
  {
   "cell_type": "code",
   "execution_count": 2,
   "metadata": {},
   "outputs": [],
   "source": [
    "train_dataset = paddle.vision.datasets.MNIST(mode='train')"
   ]
  },
  {
   "cell_type": "code",
   "execution_count": 3,
   "metadata": {},
   "outputs": [
    {
     "data": {
      "text/plain": [
       "<paddle.vision.datasets.mnist.MNIST at 0x236be0008b0>"
      ]
     },
     "execution_count": 3,
     "metadata": {},
     "output_type": "execute_result"
    }
   ],
   "source": [
    "train_dataset"
   ]
  },
  {
   "cell_type": "code",
   "execution_count": 4,
   "metadata": {},
   "outputs": [
    {
     "data": {
      "text/plain": [
       "<Figure size 640x480 with 0 Axes>"
      ]
     },
     "metadata": {},
     "output_type": "display_data"
    },
    {
     "data": {
      "image/png": "[encoded data removed]",
      "text/plain": [
       "<Figure size 200x200 with 1 Axes>"
      ]
     },
     "metadata": {},
     "output_type": "display_data"
    },
    {
     "name": "stdout",
     "output_type": "stream",
     "text": [
      "图像数据形状和对应数据为: (28, 28)\n",
      "图像标签形状和对应数据为: (1,) [5]\n",
      "\n",
      "打印第一个batch的第一个图像，对应标签数字为[5]\n"
     ]
    }
   ],
   "source": [
    "train_data_0 = np.array(train_dataset[0][0])\n",
    "train_label_0 = np.array(train_dataset[0][1])\n",
    "\n",
    "# 显示第一batch的第一个图像\n",
    "plt.figure(\"Image\") # 图像窗口名称\n",
    "plt.figure(figsize=(2,2))\n",
    "plt.imshow(train_data_0, cmap=plt.cm.binary)\n",
    "plt.axis('on') # 关掉坐标轴为 off\n",
    "plt.title('image') # 图像题目\n",
    "plt.show()\n",
    "\n",
    "print(\"图像数据形状和对应数据为:\", train_data_0.shape)\n",
    "print(\"图像标签形状和对应数据为:\", train_label_0.shape, train_label_0)\n",
    "print(\"\\n打印第一个batch的第一个图像，对应标签数字为{}\".format(train_label_0))"
   ]
  },
  {
   "cell_type": "code",
   "execution_count": 5,
   "metadata": {},
   "outputs": [],
   "source": [
    "# 定义mnist数据识别网络结构，同房价预测网络\n",
    "class MNIST(paddle.nn.Layer):\n",
    "    def __init__(self):\n",
    "        super(MNIST, self).__init__()\n",
    "        \n",
    "        # 定义一层全连接层，输出维度是1\n",
    "        self.fc = paddle.nn.Linear(in_features=784, out_features=1)\n",
    "        \n",
    "    # 定义网络结构的前向计算过程\n",
    "    def forward(self, inputs):\n",
    "        outputs = self.fc(inputs)\n",
    "        return outputs"
   ]
  },
  {
   "cell_type": "code",
   "execution_count": 6,
   "metadata": {},
   "outputs": [],
   "source": [
    "# 声明网络结构\n",
    "model = MNIST()\n",
    "\n",
    "def train(model):\n",
    "    # 启动训练模式\n",
    "    model.train()\n",
    "    # 加载训练集 batch_size 设为 16\n",
    "    train_loader = paddle.io.DataLoader(paddle.vision.datasets.MNIST(mode='train'), \n",
    "                                        batch_size=16, \n",
    "                                        shuffle=True)\n",
    "    # 定义优化器，使用随机梯度下降SGD优化器，学习率设置为0.001\n",
    "    opt = paddle.optimizer.SGD(learning_rate=0.001, parameters=model.parameters())"
   ]
  },
  {
   "cell_type": "code",
   "execution_count": 7,
   "metadata": {},
   "outputs": [],
   "source": [
    "# 图像归一化函数，将数据范围为[0, 255]的图像归一化到[0, 1]\n",
    "def norm_img(img):\n",
    "    # 验证传入数据格式是否正确，img的shape为[batch_size, 28, 28]\n",
    "    assert len(img.shape) == 3\n",
    "    batch_size, img_h, img_w = img.shape[0], img.shape[1], img.shape[2]\n",
    "    # 归一化图像数据\n",
    "    img = img / 255\n",
    "    # 将图像形式reshape为[batch_size, 784]\n",
    "    img = paddle.reshape(img, [batch_size, img_h*img_w])\n",
    "    \n",
    "    return img"
   ]
  },
  {
   "cell_type": "code",
   "execution_count": 8,
   "metadata": {},
   "outputs": [
    {
     "name": "stdout",
     "output_type": "stream",
     "text": [
      "epoch_id: 0, batch_id: 0, loss is: 30.134899139404297\n",
      "epoch_id: 0, batch_id: 1000, loss is: 4.904995918273926\n",
      "epoch_id: 0, batch_id: 2000, loss is: 5.118741035461426\n",
      "epoch_id: 0, batch_id: 3000, loss is: 2.7357053756713867\n",
      "epoch_id: 1, batch_id: 0, loss is: 4.331856727600098\n",
      "epoch_id: 1, batch_id: 1000, loss is: 1.5642260313034058\n",
      "epoch_id: 1, batch_id: 2000, loss is: 4.229665279388428\n",
      "epoch_id: 1, batch_id: 3000, loss is: 5.2443623542785645\n",
      "epoch_id: 2, batch_id: 0, loss is: 3.8798294067382812\n",
      "epoch_id: 2, batch_id: 1000, loss is: 5.133633613586426\n",
      "epoch_id: 2, batch_id: 2000, loss is: 6.802003860473633\n",
      "epoch_id: 2, batch_id: 3000, loss is: 4.626827716827393\n",
      "epoch_id: 3, batch_id: 0, loss is: 4.453268527984619\n",
      "epoch_id: 3, batch_id: 1000, loss is: 4.490059852600098\n",
      "epoch_id: 3, batch_id: 2000, loss is: 2.0469062328338623\n",
      "epoch_id: 3, batch_id: 3000, loss is: 2.842984914779663\n",
      "epoch_id: 4, batch_id: 0, loss is: 5.203644752502441\n",
      "epoch_id: 4, batch_id: 1000, loss is: 2.5402398109436035\n",
      "epoch_id: 4, batch_id: 2000, loss is: 3.050508499145508\n",
      "epoch_id: 4, batch_id: 3000, loss is: 2.6431021690368652\n",
      "epoch_id: 5, batch_id: 0, loss is: 2.0070106983184814\n",
      "epoch_id: 5, batch_id: 1000, loss is: 3.1829419136047363\n",
      "epoch_id: 5, batch_id: 2000, loss is: 4.396419048309326\n",
      "epoch_id: 5, batch_id: 3000, loss is: 4.332981586456299\n",
      "epoch_id: 6, batch_id: 0, loss is: 2.049344539642334\n",
      "epoch_id: 6, batch_id: 1000, loss is: 2.3084683418273926\n",
      "epoch_id: 6, batch_id: 2000, loss is: 1.184133768081665\n",
      "epoch_id: 6, batch_id: 3000, loss is: 4.567873001098633\n",
      "epoch_id: 7, batch_id: 0, loss is: 3.498310089111328\n",
      "epoch_id: 7, batch_id: 1000, loss is: 2.6730594635009766\n",
      "epoch_id: 7, batch_id: 2000, loss is: 6.374314308166504\n",
      "epoch_id: 7, batch_id: 3000, loss is: 4.24233865737915\n",
      "epoch_id: 8, batch_id: 0, loss is: 2.4988179206848145\n",
      "epoch_id: 8, batch_id: 1000, loss is: 5.322381973266602\n",
      "epoch_id: 8, batch_id: 2000, loss is: 3.132469654083252\n",
      "epoch_id: 8, batch_id: 3000, loss is: 2.904698371887207\n",
      "epoch_id: 9, batch_id: 0, loss is: 3.5483429431915283\n",
      "epoch_id: 9, batch_id: 1000, loss is: 4.046158790588379\n",
      "epoch_id: 9, batch_id: 2000, loss is: 4.692302703857422\n",
      "epoch_id: 9, batch_id: 3000, loss is: 1.9688575267791748\n"
     ]
    }
   ],
   "source": [
    "# 确保从paddle.vision.datasets.MNIST中加载的图像数据是np.ndarray类型\n",
    "paddle.vision.set_image_backend('cv2')\n",
    "\n",
    "# 声明网络结构\n",
    "model = MNIST()\n",
    "\n",
    "def train(model):\n",
    "    # 启动训练模式\n",
    "    model.train()\n",
    "    # 加载训练集 batch_size 设为 16\n",
    "    train_loader = paddle.io.DataLoader(paddle.vision.datasets.MNIST(mode='train'), \n",
    "                                        batch_size=16, \n",
    "                                        shuffle=True)\n",
    "    # 定义优化器，使用随机梯度下降SGD优化器，学习率设置为0.001\n",
    "    opt = paddle.optimizer.SGD(learning_rate=0.001, parameters=model.parameters())\n",
    "    EPOCH_NUM = 10\n",
    "    loss_list = []\n",
    "    for epoch in range(EPOCH_NUM):\n",
    "        for batch_id, data in enumerate(train_loader()):\n",
    "            images = norm_img(data[0]).astype('float32')\n",
    "            labels = data[1].astype('float32')\n",
    "            \n",
    "            #前向计算的过程\n",
    "            predicts = model(images)\n",
    "            \n",
    "            # 计算损失\n",
    "            loss = F.square_error_cost(predicts, labels)\n",
    "            avg_loss = paddle.mean(loss)\n",
    "            \n",
    "            #每训练了1000批次的数据，打印下当前Loss的情况\n",
    "            if batch_id % 1000 == 0:\n",
    "                loss = avg_loss.numpy()[0]\n",
    "                loss_list.append(loss)\n",
    "                print(\"epoch_id: {}, batch_id: {}, loss is: {}\".format(epoch, batch_id, loss))\n",
    "            \n",
    "            #后向传播，更新参数的过程\n",
    "            avg_loss.backward()\n",
    "            opt.step()\n",
    "            opt.clear_grad()\n",
    "    \n",
    "    return loss_list\n",
    "            \n",
    "loss_list = train(model)\n",
    "paddle.save(model.state_dict(), './mnist.pdparams')"
   ]
  },
  {
   "cell_type": "code",
   "execution_count": 9,
   "metadata": {},
   "outputs": [
    {
     "data": {
      "image/png": "[encoded data removed]",
      "text/plain": [
       "<Figure size 1000x500 with 1 Axes>"
      ]
     },
     "metadata": {},
     "output_type": "display_data"
    }
   ],
   "source": [
    "def plot(loss_list):\n",
    "    plt.figure(figsize=(10,5))\n",
    "    \n",
    "    freqs = [i for i in range(len(loss_list))]\n",
    "    # 绘制训练损失变化曲线\n",
    "    plt.plot(freqs, loss_list, color='#e4007f', label=\"Train loss\")\n",
    "    \n",
    "    # 绘制坐标轴和图例\n",
    "    plt.ylabel(\"loss\", fontsize='large')\n",
    "    plt.xlabel(\"freq\", fontsize='large')\n",
    "    plt.legend(loc='upper right', fontsize='x-large')\n",
    "    \n",
    "    plt.show()\n",
    "\n",
    "plot(loss_list)"
   ]
  },
  {
   "cell_type": "code",
   "execution_count": 10,
   "metadata": {},
   "outputs": [
    {
     "data": {
      "image/png": "[encoded data removed]",
      "text/plain": [
       "<Figure size 640x480 with 1 Axes>"
      ]
     },
     "metadata": {},
     "output_type": "display_data"
    },
    {
     "name": "stdout",
     "output_type": "stream",
     "text": [
      "原始图像shape:  (28, 28)\n"
     ]
    },
    {
     "name": "stderr",
     "output_type": "stream",
     "text": [
      "C:\\Users\\gudeb\\AppData\\Local\\Temp\\ipykernel_13068\\3712153676.py:15: DeprecationWarning: ANTIALIAS is deprecated and will be removed in Pillow 10 (2023-07-01). Use LANCZOS or Resampling.LANCZOS instead.\n",
      "  im = im.resize((28, 28), Image.ANTIALIAS)\n"
     ]
    },
    {
     "data": {
      "image/png": "[encoded data removed]",
      "text/plain": [
       "<Figure size 640x480 with 1 Axes>"
      ]
     },
     "metadata": {},
     "output_type": "display_data"
    },
    {
     "name": "stdout",
     "output_type": "stream",
     "text": [
      "采样后图片shape:  (28, 28)\n"
     ]
    }
   ],
   "source": [
    "# 导入图像读取第三方库\n",
    "import matplotlib.pyplot as plt\n",
    "import numpy as np\n",
    "from PIL import Image\n",
    "\n",
    "img_path = './work/example_0.jpg'\n",
    "# 读取原始图像并显示\n",
    "im = Image.open('./work/example_0.jpg')\n",
    "plt.imshow(im)\n",
    "plt.show()\n",
    "# 将原始图像转为灰度图\n",
    "im = im.convert('L')\n",
    "print('原始图像shape: ', np.array(im).shape)\n",
    "# 使用Image.ANTIALIAS方式采样原始图片\n",
    "im = im.resize((28, 28), Image.ANTIALIAS)\n",
    "plt.imshow(im)\n",
    "plt.show()\n",
    "print(\"采样后图片shape: \", np.array(im).shape)"
   ]
  },
  {
   "cell_type": "code",
   "execution_count": 11,
   "metadata": {},
   "outputs": [
    {
     "name": "stdout",
     "output_type": "stream",
     "text": [
      "result Tensor(shape=[1, 1], dtype=float32, place=Place(cpu), stop_gradient=False,\n",
      "       [[1.08814883]])\n",
      "本次预测的数字是 [[1]]\n"
     ]
    },
    {
     "name": "stderr",
     "output_type": "stream",
     "text": [
      "C:\\Users\\gudeb\\AppData\\Local\\Temp\\ipykernel_13068\\533195415.py:6: DeprecationWarning: ANTIALIAS is deprecated and will be removed in Pillow 10 (2023-07-01). Use LANCZOS or Resampling.LANCZOS instead.\n",
      "  im = im.resize((28, 28), Image.ANTIALIAS)\n"
     ]
    }
   ],
   "source": [
    "# 读取一张本地的样例图片，转变成模型输入的格式\n",
    "def load_image(img_path):\n",
    "    # 从img_path中读取图像，并转为灰度图\n",
    "    im = Image.open(img_path).convert('L')\n",
    "    # print(np.array(im))\n",
    "    im = im.resize((28, 28), Image.ANTIALIAS)\n",
    "    im = np.array(im).reshape(1, -1).astype(np.float32)\n",
    "    # 图像归一化，保持和数据集的数据范围一致\n",
    "    im = 1 - im / 255\n",
    "    return im\n",
    "\n",
    "# 定义预测过程\n",
    "model = MNIST()\n",
    "params_file_path = 'mnist.pdparams'\n",
    "img_path = './work/example_0.jpg'\n",
    "# 加载模型参数\n",
    "param_dict = paddle.load(params_file_path)\n",
    "model.load_dict(param_dict)\n",
    "# 灌入数据\n",
    "model.eval()\n",
    "tensor_img = load_image(img_path)\n",
    "result = model(paddle.to_tensor(tensor_img))\n",
    "print('result',result)\n",
    "#  预测输出取整，即为预测的数字，打印结果\n",
    "print(\"本次预测的数字是\", result.numpy().astype('int32'))"
   ]
  },
  {
   "cell_type": "code",
   "execution_count": 25,
   "metadata": {},
   "outputs": [
    {
     "name": "stdout",
     "output_type": "stream",
     "text": [
      "当前模型的准确率为:  0.2547\n"
     ]
    }
   ],
   "source": [
    "# 评估当前模型的准确率\n",
    "def evaluate(model):\n",
    "    y_true = []\n",
    "    y_pred = []\n",
    "    # 加载测试集\n",
    "    test_loader = paddle.io.DataLoader(paddle.vision.datasets.MNIST(mode='test'),\n",
    "                                        batch_size=16,shuffle=True)\n",
    "    for batch_id, data in enumerate(test_loader()):\n",
    "        images = norm_img(data[0]).astype('float32')\n",
    "        labels = data[1].astype('float32')\n",
    "        predicts = model(images)\n",
    "        y_true.append(labels.numpy().astype('int32'))\n",
    "        y_pred.append(predicts.numpy().astype('int32'))\n",
    "    y_true = np.concatenate(y_true, axis=0)\n",
    "    y_pred = np.concatenate(y_pred, axis=0)\n",
    "    acc = np.mean(np.equal(y_true, y_pred))\n",
    "    return acc\n",
    "\n",
    "loss_list = evaluate(model)\n",
    "print(\"当前模型的准确率为: \", loss_list)"
   ]
  },
  {
   "cell_type": "code",
   "execution_count": 27,
   "metadata": {},
   "outputs": [
    {
     "name": "stdout",
     "output_type": "stream",
     "text": [
      "16\n",
      "10\n",
      "6\n",
      "0.625\n"
     ]
    }
   ],
   "source": [
    "test_np = [[False],[True],[True],[False],[True],[True],[False],[True],[True],[False],[True],[True],[False],[True],[True],[False]]\n",
    "# 总数\n",
    "print(len(test_np))\n",
    "# True的个数\n",
    "print(np.sum(test_np))\n",
    "# False的个数\n",
    "print(len(test_np) - np.sum(test_np))\n",
    "# 准确率\n",
    "print(np.mean(test_np))"
   ]
  }
 ],
 "metadata": {
  "kernelspec": {
   "display_name": "Python 3",
   "language": "python",
   "name": "python3"
  },
  "language_info": {
   "codemirror_mode": {
    "name": "ipython",
    "version": 3
   },
   "file_extension": ".py",
   "mimetype": "text/x-python",
   "name": "python",
   "nbconvert_exporter": "python",
   "pygments_lexer": "ipython3",
   "version": "3.10.10"
  },
  "orig_nbformat": 4
 },
 "nbformat": 4,
 "nbformat_minor": 2
}
