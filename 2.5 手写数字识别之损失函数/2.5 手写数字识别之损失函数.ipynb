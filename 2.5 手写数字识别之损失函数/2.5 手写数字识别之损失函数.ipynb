{
 "cells": [
  {
   "cell_type": "code",
   "execution_count": 2,
   "metadata": {},
   "outputs": [
    {
     "data": {
      "image/png": "[encoded data removed]",
      "text/plain": [
       "<Figure size 640x480 with 1 Axes>"
      ]
     },
     "metadata": {},
     "output_type": "display_data"
    },
    {
     "data": {
      "text/plain": [
       "<Figure size 640x480 with 0 Axes>"
      ]
     },
     "execution_count": 2,
     "metadata": {},
     "output_type": "execute_result"
    },
    {
     "data": {
      "text/plain": [
       "<Figure size 640x480 with 0 Axes>"
      ]
     },
     "metadata": {},
     "output_type": "display_data"
    }
   ],
   "source": [
    "import matplotlib.pyplot as plt\n",
    "import numpy as np\n",
    "x = np.arange(0.01,1,0.01)\n",
    "y = np.log(x)\n",
    "plt.title(\"y=log(x)\") \n",
    "plt.xlabel(\"x\") \n",
    "plt.ylabel(\"y\") \n",
    "plt.plot(x,y)\n",
    "plt.show()\n",
    "plt.figure()"
   ]
  },
  {
   "cell_type": "code",
   "execution_count": 3,
   "metadata": {},
   "outputs": [],
   "source": [
    "import paddle\n",
    "from paddle.vision.transforms import Normalize\n",
    "\n",
    "def get_MNIST_dataloader():\n",
    "    transform = Normalize(mean=[127.5], std=[127.5],data_format='CHW')\n",
    "    train_dataset = paddle.vision.datasets.MNIST(mode='train', transform=transform)\n",
    "    test_dataset = paddle.vision.datasets.MNIST(mode='test', transform=transform)\n",
    "    train_loader = paddle.io.DataLoader(train_dataset, batch_size=64, shuffle=True,num_workers=1, drop_last=True)\n",
    "    test_loader = paddle.io.DataLoader(test_dataset, batch_size=64, shuffle=False,num_workers=1, drop_last=True)\n",
    "\n",
    "    return train_loader, test_loader"
   ]
  },
  {
   "cell_type": "code",
   "execution_count": 4,
   "metadata": {},
   "outputs": [
    {
     "name": "stderr",
     "output_type": "stream",
     "text": [
      "C:\\Users\\gudeb\\AppData\\Local\\Packages\\PythonSoftwareFoundation.Python.3.10_qbz5n2kfra8p0\\LocalCache\\local-packages\\Python310\\site-packages\\paddle\\fluid\\reader.py:486: UserWarning: DataLoader with multi-process mode is not supported on MacOs and Windows currently. Please use signle-process mode with num_workers = 0 instead\n",
      "  warnings.warn(\n"
     ]
    }
   ],
   "source": [
    "train_loader, test_loader = get_MNIST_dataloader()"
   ]
  },
  {
   "cell_type": "code",
   "execution_count": 5,
   "metadata": {},
   "outputs": [],
   "source": [
    "# 定义 SimpleNet 网络结构\n",
    "import paddle\n",
    "from paddle.nn import Conv2D, MaxPool2D, Linear\n",
    "import paddle.nn.functional as F\n",
    "# 多层卷积神经网络实现\n",
    "class MNIST(paddle.nn.Layer):\n",
    "     def __init__(self):\n",
    "         super(MNIST, self).__init__()\n",
    "         \n",
    "         # 定义卷积层，输出特征通道out_channels设置为20，卷积核的大小kernel_size为5，卷积步长stride=1，padding=2\n",
    "         self.conv1 = Conv2D(in_channels=1, out_channels=20, kernel_size=5, stride=1, padding=2)\n",
    "         # 定义池化层，池化核的大小kernel_size为2，池化步长为2\n",
    "         self.max_pool1 = MaxPool2D(kernel_size=2, stride=2)\n",
    "         # 定义卷积层，输出特征通道out_channels设置为20，卷积核的大小kernel_size为5，卷积步长stride=1，padding=2\n",
    "         self.conv2 = Conv2D(in_channels=20, out_channels=20, kernel_size=5, stride=1, padding=2)\n",
    "         # 定义池化层，池化核的大小kernel_size为2，池化步长为2\n",
    "         self.max_pool2 = MaxPool2D(kernel_size=2, stride=2)\n",
    "         # 定义一层全连接层，输出维度是10\n",
    "         self.fc = Linear(in_features=980, out_features=10)\n",
    "         \n",
    "    # 定义网络前向计算过程，卷积后紧接着使用池化层，最后使用全连接层计算最终输出\n",
    "    # 卷积层激活函数使用Relu，全连接层激活函数使用softmax\n",
    "     def forward(self, inputs):\n",
    "         x = self.conv1(inputs)\n",
    "         x = F.relu(x)\n",
    "         x = self.max_pool1(x)\n",
    "         x = self.conv2(x)\n",
    "         x = F.relu(x)\n",
    "         x = self.max_pool2(x)\n",
    "         x = paddle.reshape(x, [x.shape[0], 980])\n",
    "         x = self.fc(x)\n",
    "         return x"
   ]
  },
  {
   "cell_type": "code",
   "execution_count": 6,
   "metadata": {},
   "outputs": [],
   "source": [
    "def evaluation(model, datasets):\n",
    "    model.eval()\n",
    "\n",
    "    acc_set = list()\n",
    "    for batch_id, data in enumerate(datasets()):\n",
    "        images, labels = data\n",
    "        images = paddle.to_tensor(images)\n",
    "        labels = paddle.to_tensor(labels)\n",
    "        pred = model(images)   # 获取预测值\n",
    "        acc = paddle.metric.accuracy(input=pred, label=labels)\n",
    "        acc_set.extend(acc.numpy())\n",
    "    \n",
    "    # #计算多个batch的准确率\n",
    "    acc_val_mean = np.array(acc_set).mean()\n",
    "    return acc_val_mean"
   ]
  },
  {
   "cell_type": "code",
   "execution_count": 7,
   "metadata": {},
   "outputs": [
    {
     "name": "stdout",
     "output_type": "stream",
     "text": [
      "epoch: 0, batch: 0, loss is: [3.2759323]\n",
      "epoch: 0, batch: 200, loss is: [0.28230175]\n",
      "epoch: 0, batch: 400, loss is: [0.2081142]\n",
      "epoch: 0, batch: 600, loss is: [0.15493906]\n",
      "epoch: 0, batch: 800, loss is: [0.13768591]\n",
      "epoch: 1, batch: 0, loss is: [0.14081122]\n",
      "epoch: 1, batch: 200, loss is: [0.1584866]\n",
      "epoch: 1, batch: 400, loss is: [0.06151015]\n",
      "epoch: 1, batch: 600, loss is: [0.09166461]\n",
      "epoch: 1, batch: 800, loss is: [0.10762259]\n",
      "epoch: 2, batch: 0, loss is: [0.03520254]\n",
      "epoch: 2, batch: 200, loss is: [0.04777319]\n",
      "epoch: 2, batch: 400, loss is: [0.07391486]\n",
      "epoch: 2, batch: 600, loss is: [0.16678208]\n",
      "epoch: 2, batch: 800, loss is: [0.04580376]\n",
      "epoch: 3, batch: 0, loss is: [0.17397878]\n",
      "epoch: 3, batch: 200, loss is: [0.05423743]\n",
      "epoch: 3, batch: 400, loss is: [0.09882441]\n",
      "epoch: 3, batch: 600, loss is: [0.11440786]\n",
      "epoch: 3, batch: 800, loss is: [0.09005695]\n",
      "epoch: 4, batch: 0, loss is: [0.0718576]\n",
      "epoch: 4, batch: 200, loss is: [0.10329691]\n",
      "epoch: 4, batch: 400, loss is: [0.18485755]\n",
      "epoch: 4, batch: 600, loss is: [0.08699688]\n",
      "epoch: 4, batch: 800, loss is: [0.12402903]\n",
      "epoch: 5, batch: 0, loss is: [0.0976217]\n",
      "epoch: 5, batch: 200, loss is: [0.03889445]\n",
      "epoch: 5, batch: 400, loss is: [0.12179255]\n",
      "epoch: 5, batch: 600, loss is: [0.00984429]\n",
      "epoch: 5, batch: 800, loss is: [0.14639199]\n",
      "epoch: 6, batch: 0, loss is: [0.03913329]\n",
      "epoch: 6, batch: 200, loss is: [0.04088279]\n",
      "epoch: 6, batch: 400, loss is: [0.01447323]\n",
      "epoch: 6, batch: 600, loss is: [0.00684362]\n",
      "epoch: 6, batch: 800, loss is: [0.09029944]\n",
      "epoch: 7, batch: 0, loss is: [0.06188026]\n",
      "epoch: 7, batch: 200, loss is: [0.0678864]\n",
      "epoch: 7, batch: 400, loss is: [0.01220943]\n",
      "epoch: 7, batch: 600, loss is: [0.02240481]\n",
      "epoch: 7, batch: 800, loss is: [0.05428793]\n",
      "epoch: 8, batch: 0, loss is: [0.10654026]\n",
      "epoch: 8, batch: 200, loss is: [0.05183771]\n",
      "epoch: 8, batch: 400, loss is: [0.02676195]\n",
      "epoch: 8, batch: 600, loss is: [0.0320189]\n",
      "epoch: 8, batch: 800, loss is: [0.05342171]\n",
      "epoch: 9, batch: 0, loss is: [0.10887535]\n",
      "epoch: 9, batch: 200, loss is: [0.04674303]\n",
      "epoch: 9, batch: 400, loss is: [0.12414221]\n",
      "epoch: 9, batch: 600, loss is: [0.02025101]\n",
      "epoch: 9, batch: 800, loss is: [0.00912169]\n"
     ]
    }
   ],
   "source": [
    "#仅修改计算损失的函数，从均方误差（常用于回归问题）到交叉熵误差（常用于分类问题）\n",
    "def train(model):\n",
    "    model.train()\n",
    "    #调用加载数据的函数\n",
    "    # train_loader = load_data('train')\n",
    "    # val_loader = load_data('valid')\n",
    "    opt = paddle.optimizer.SGD(learning_rate=0.01, parameters=model.parameters())\n",
    "    EPOCH_NUM = 10\n",
    "    for epoch_id in range(EPOCH_NUM):\n",
    "        for batch_id, data in enumerate(train_loader()):\n",
    "            #准备数据\n",
    "            images, labels = data\n",
    "            images = paddle.to_tensor(images)\n",
    "            labels = paddle.to_tensor(labels)\n",
    "            #前向计算的过程\n",
    "            predicts = model(images)\n",
    "            \n",
    "            #计算损失，使用交叉熵损失函数，取一个批次样本损失的平均值\n",
    "            loss = F.cross_entropy(predicts, labels)\n",
    "            avg_loss = paddle.mean(loss)\n",
    "            \n",
    "            #每训练了200批次的数据，打印下当前Loss的情况\n",
    "            if batch_id % 200 == 0:\n",
    "                print(\"epoch: {}, batch: {}, loss is: {}\".format(epoch_id, batch_id, avg_loss.numpy()))\n",
    "            \n",
    "            #后向传播，更新参数的过程\n",
    "            avg_loss.backward()\n",
    "            # 最小化loss,更新参数\n",
    "            opt.step()\n",
    "            # 清除梯度\n",
    "            opt.clear_grad()\n",
    "        # acc_train_mean = evaluation(model, train_loader)\n",
    "        # acc_val_mean = evaluation(model, val_loader)\n",
    "        # print('train_acc: {}, val acc: {}'.format(acc_train_mean, acc_val_mean))   \n",
    "    #保存模型参数\n",
    "    paddle.save(model.state_dict(), 'mnist.pdparams')\n",
    "    \n",
    "#创建模型    \n",
    "model = MNIST()\n",
    "#启动训练过程\n",
    "train(model)"
   ]
  },
  {
   "cell_type": "code",
   "execution_count": 8,
   "metadata": {},
   "outputs": [
    {
     "name": "stdout",
     "output_type": "stream",
     "text": [
      "本次预测的数字是:  0\n"
     ]
    },
    {
     "name": "stderr",
     "output_type": "stream",
     "text": [
      "C:\\Users\\gudeb\\AppData\\Local\\Temp\\ipykernel_16888\\378201972.py:7: DeprecationWarning: ANTIALIAS is deprecated and will be removed in Pillow 10 (2023-07-01). Use LANCZOS or Resampling.LANCZOS instead.\n",
      "  im = im.resize((28, 28), Image.ANTIALIAS)\n"
     ]
    }
   ],
   "source": [
    "from PIL import Image\n",
    "\n",
    "# 读取一张本地的样例图片，转变成模型输入的格式\n",
    "def load_image(img_path):\n",
    "    # 从img_path中读取图像，并转为灰度图\n",
    "    im = Image.open(img_path).convert('L')\n",
    "    im = im.resize((28, 28), Image.ANTIALIAS)\n",
    "    im = np.array(im).reshape(1, 1, 28, 28).astype(np.float32)\n",
    "    # 图像归一化\n",
    "    im = 1.0 - im / 255.\n",
    "    return im\n",
    "\n",
    "# 定义预测过程\n",
    "model = MNIST()\n",
    "params_file_path = 'mnist.pdparams'\n",
    "img_path = 'work/example_0.jpg'\n",
    "# 加载模型参数\n",
    "param_dict = paddle.load(params_file_path)\n",
    "model.load_dict(param_dict)\n",
    "# 灌入数据\n",
    "model.eval()\n",
    "tensor_img = load_image(img_path)\n",
    "#模型反馈10个分类标签的对应概率\n",
    "results = model(paddle.to_tensor(tensor_img))\n",
    "#取概率最大的标签作为预测输出\n",
    "lab = np.argsort(results.numpy())\n",
    "print(\"本次预测的数字是: \", lab[0][-1])"
   ]
  }
 ],
 "metadata": {
  "kernelspec": {
   "display_name": "Python 3",
   "language": "python",
   "name": "python3"
  },
  "language_info": {
   "codemirror_mode": {
    "name": "ipython",
    "version": 3
   },
   "file_extension": ".py",
   "mimetype": "text/x-python",
   "name": "python",
   "nbconvert_exporter": "python",
   "pygments_lexer": "ipython3",
   "version": "3.10.10"
  },
  "orig_nbformat": 4
 },
 "nbformat": 4,
 "nbformat_minor": 2
}
