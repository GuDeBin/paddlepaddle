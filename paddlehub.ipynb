{
 "cells": [
  {
   "cell_type": "code",
   "execution_count": 4,
   "metadata": {},
   "outputs": [
    {
     "name": "stderr",
     "output_type": "stream",
     "text": [
      "\u001b[32m[2023-03-15 16:40:33,169] [    INFO]\u001b[0m - Already cached C:\\Users\\gudeb\\.paddlenlp\\models\\ernie-1.0\\ernie_v1_chn_base.pdparams\u001b[0m\n",
      "\u001b[35m[2023-03-15 16:40:33,171] [   DEBUG]\u001b[0m - init ErnieModel with config: {'attention_probs_dropout_prob': 0.1, 'hidden_act': 'relu', 'hidden_dropout_prob': 0.1, 'hidden_size': 768, 'initializer_range': 0.02, 'max_position_embeddings': 513, 'num_attention_heads': 12, 'num_hidden_layers': 12, 'type_vocab_size': 2, 'vocab_size': 18000, 'pad_token_id': 0}\u001b[0m\n",
      "\u001b[32m[2023-03-15 16:40:39,739] [    INFO]\u001b[0m - loading pretrained model from C:\\Users\\gudeb\\.paddlenlp\\models\\ernie-1.0\\ernie_v1_chn_base.pdparams\u001b[0m\n",
      "\u001b[32m[2023-03-15 16:40:40,329] [    INFO]\u001b[0m - param:mlm_bias not set in pretrained model, skip\u001b[0m\n",
      "\u001b[32m[2023-03-15 16:40:40,330] [    INFO]\u001b[0m - param:mlm.weight not set in pretrained model, skip\u001b[0m\n",
      "\u001b[32m[2023-03-15 16:40:40,331] [    INFO]\u001b[0m - param:mlm.bias not set in pretrained model, skip\u001b[0m\n",
      "\u001b[32m[2023-03-15 16:40:40,332] [    INFO]\u001b[0m - param:mlm_ln.weight not set in pretrained model, skip\u001b[0m\n",
      "\u001b[32m[2023-03-15 16:40:40,334] [    INFO]\u001b[0m - param:mlm_ln.bias not set in pretrained model, skip\u001b[0m\n",
      "\u001b[32m[2023-03-15 16:40:44,540] [    INFO]\u001b[0m - Already cached C:\\Users\\gudeb\\.paddlenlp\\models\\ernie-1.0\\vocab.txt\u001b[0m\n",
      "\u001b[32m[2023-03-15 16:40:44,555] [    INFO]\u001b[0m - tokenizer config file saved in C:\\Users\\gudeb\\.paddlenlp\\models\\ernie-1.0\\tokenizer_config.json\u001b[0m\n",
      "\u001b[32m[2023-03-15 16:40:44,557] [    INFO]\u001b[0m - Special tokens file saved in C:\\Users\\gudeb\\.paddlenlp\\models\\ernie-1.0\\special_tokens_map.json\u001b[0m\n",
      "\u001b[33m[2023-03-15 16:40:44,561] [ WARNING]\u001b[0m - use_gpu has been set False as you didn't set the environment variable CUDA_VISIBLE_DEVICES while using use_gpu=True\u001b[0m\n"
     ]
    },
    {
     "name": "stdout",
     "output_type": "stream",
     "text": [
      "['坚强，是我们不愿忘记的誓言；坚强，是我们不愿遗忘的过往；坚强，是我们不愿遗忘的伤疤。']\n"
     ]
    }
   ],
   "source": [
    "import paddlehub as hub\n",
    "\n",
    "module = hub.Module(name=\"ernie_gen_lover_words\")\n",
    "\n",
    "test_texts = ['坚强']\n",
    "# 调用预测接口生成内容\n",
    "results = module.generate(texts=test_texts, use_gpu=True, beam_width=1)\n",
    "for result in results:\n",
    "    print(result)"
   ]
  },
  {
   "cell_type": "code",
   "execution_count": 3,
   "metadata": {},
   "outputs": [
    {
     "name": "stderr",
     "output_type": "stream",
     "text": [
      "\u001b[33m[2023-03-15 16:46:51,947] [ WARNING]\u001b[0m - The _initialize method in HubModule will soon be deprecated, you can use the __init__() to handle the initialization of the object\u001b[0m\n"
     ]
    },
    {
     "name": "stdout",
     "output_type": "stream",
     "text": [
      "每日一堪忧，快乐似神仙！下一发：15日十九时左右长征十一号未知载荷\n",
      "0\n",
      "negative\n",
      "0.1286\n",
      "0.8714\n",
      "美国已经衰落到一个火箭都要反复用的地步了吗\n",
      "0\n",
      "negative\n",
      "0.0086\n",
      "0.9914\n"
     ]
    }
   ],
   "source": [
    "import paddlehub as hub\n",
    "\n",
    "senta = hub.Module(name=\"senta_bilstm\")\n",
    "test_text = [\"每日一堪忧，快乐似神仙！下一发：15日十九时左右长征十一号未知载荷\", \"美国已经衰落到一个火箭都要反复用的地步了吗\"]\n",
    "results = senta.sentiment_classify(texts=test_text, \n",
    "                                   use_gpu=False,\n",
    "                                   batch_size=1)\n",
    "    \n",
    "for result in results:\n",
    "    print(result['text'])\n",
    "    print(result['sentiment_label'])\n",
    "    print(result['sentiment_key'])\n",
    "    print(result['positive_probs'])\n",
    "    print(result['negative_probs'])"
   ]
  }
 ],
 "metadata": {
  "kernelspec": {
   "display_name": "Python 3",
   "language": "python",
   "name": "python3"
  },
  "language_info": {
   "codemirror_mode": {
    "name": "ipython",
    "version": 3
   },
   "file_extension": ".py",
   "mimetype": "text/x-python",
   "name": "python",
   "nbconvert_exporter": "python",
   "pygments_lexer": "ipython3",
   "version": "3.10.10"
  },
  "orig_nbformat": 4
 },
 "nbformat": 4,
 "nbformat_minor": 2
}
