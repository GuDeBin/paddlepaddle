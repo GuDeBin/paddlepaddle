{
 "cells": [
  {
   "cell_type": "code",
   "execution_count": 6,
   "metadata": {},
   "outputs": [],
   "source": [
    "import paddlehub as hub\n",
    "import cv2\n",
    "from PIL import Image\n",
    "import matplotlib.pyplot as plt"
   ]
  },
  {
   "cell_type": "code",
   "execution_count": 7,
   "metadata": {},
   "outputs": [
    {
     "name": "stdout",
     "output_type": "stream",
     "text": [
      "result:[{'白灼虾': 0.4448094069957733}]\n"
     ]
    }
   ],
   "source": [
    "classifiers = hub.Module(name=\"resnet50_vd_dishes\")\n",
    "result = classifiers.classification(images=[cv2.imread('imgs/test1.jpg')])\n",
    "print(\"result:{}\".format(result))"
   ]
  },
  {
   "cell_type": "code",
   "execution_count": 8,
   "metadata": {},
   "outputs": [
    {
     "ename": "ValueError",
     "evalue": "setting an array element with a sequence. The requested array has an inhomogeneous shape after 2 dimensions. The detected shape was (1, 2) + inhomogeneous part.",
     "output_type": "error",
     "traceback": [
      "\u001b[1;31m---------------------------------------------------------------------------\u001b[0m",
      "\u001b[1;31mValueError\u001b[0m                                Traceback (most recent call last)",
      "Cell \u001b[1;32mIn[8], line 2\u001b[0m\n\u001b[0;32m      1\u001b[0m vehicles_detector \u001b[39m=\u001b[39m hub\u001b[39m.\u001b[39mModule(name\u001b[39m=\u001b[39m\u001b[39m\"\u001b[39m\u001b[39myolov3_darknet53_vehicles\u001b[39m\u001b[39m\"\u001b[39m)\n\u001b[1;32m----> 2\u001b[0m result \u001b[39m=\u001b[39m vehicles_detector\u001b[39m.\u001b[39;49mobject_detection(images\u001b[39m=\u001b[39;49m[cv2\u001b[39m.\u001b[39;49mimread(\u001b[39m'\u001b[39;49m\u001b[39mimgs/test2.jpg\u001b[39;49m\u001b[39m'\u001b[39;49m)], visualization\u001b[39m=\u001b[39;49m\u001b[39mTrue\u001b[39;49;00m)\n\u001b[0;32m      4\u001b[0m \u001b[39m# 结果保存在'yolov3_vehicles_detect_output/'目录，可以观察可视化结果\u001b[39;00m\n\u001b[0;32m      5\u001b[0m img \u001b[39m=\u001b[39m Image\u001b[39m.\u001b[39mopen(result[\u001b[39m0\u001b[39m][\u001b[39m'\u001b[39m\u001b[39msave_path\u001b[39m\u001b[39m'\u001b[39m])\n",
      "File \u001b[1;32m~\\AppData\\Local\\Packages\\PythonSoftwareFoundation.Python.3.10_qbz5n2kfra8p0\\LocalCache\\local-packages\\Python310\\site-packages\\paddlehub\\compat\\paddle_utils.py:221\u001b[0m, in \u001b[0;36mrun_in_static_mode.<locals>.runner\u001b[1;34m(*args, **kwargs)\u001b[0m\n\u001b[0;32m    219\u001b[0m \u001b[39mdef\u001b[39;00m \u001b[39mrunner\u001b[39m(\u001b[39m*\u001b[39margs, \u001b[39m*\u001b[39m\u001b[39m*\u001b[39mkwargs):\n\u001b[0;32m    220\u001b[0m     \u001b[39mwith\u001b[39;00m static_mode_guard():\n\u001b[1;32m--> 221\u001b[0m         \u001b[39mreturn\u001b[39;00m func(\u001b[39m*\u001b[39margs, \u001b[39m*\u001b[39m\u001b[39m*\u001b[39mkwargs)\n",
      "File \u001b[1;32m~\\.paddlehub\\modules\\yolov3_darknet53_vehicles\\module.py:144\u001b[0m, in \u001b[0;36mYOLOv3DarkNet53Vehicles.object_detection\u001b[1;34m(self, paths, images, batch_size, use_gpu, output_dir, score_thresh, visualization, use_device)\u001b[0m\n\u001b[0;32m    142\u001b[0m res \u001b[39m=\u001b[39m []\n\u001b[0;32m    143\u001b[0m \u001b[39mfor\u001b[39;00m iter_id, feed_data \u001b[39min\u001b[39;00m \u001b[39menumerate\u001b[39m(batch_reader()):\n\u001b[1;32m--> 144\u001b[0m     feed_data \u001b[39m=\u001b[39m np\u001b[39m.\u001b[39;49marray(feed_data)\n\u001b[0;32m    146\u001b[0m     input_names \u001b[39m=\u001b[39m predictor\u001b[39m.\u001b[39mget_input_names()\n\u001b[0;32m    147\u001b[0m     image_data \u001b[39m=\u001b[39m np\u001b[39m.\u001b[39marray(\u001b[39mlist\u001b[39m(feed_data[:, \u001b[39m0\u001b[39m]))\n",
      "\u001b[1;31mValueError\u001b[0m: setting an array element with a sequence. The requested array has an inhomogeneous shape after 2 dimensions. The detected shape was (1, 2) + inhomogeneous part."
     ]
    }
   ],
   "source": [
    "vehicles_detector = hub.Module(name=\"yolov3_darknet53_vehicles\")\n",
    "result = vehicles_detector.object_detection(images=[cv2.imread('imgs/test2.jpg')], visualization=True)\n",
    "\n",
    "# 结果保存在'yolov3_vehicles_detect_output/'目录，可以观察可视化结果\n",
    "img = Image.open(result[0]['save_path'])\n",
    "plt.figure(figsize=(15,8))\n",
    "plt.imshow(img)\n",
    "plt.show()"
   ]
  },
  {
   "attachments": {},
   "cell_type": "markdown",
   "metadata": {},
   "source": [
    "# 问题\n",
    "\n",
    "在paddle的线上，也就是aistudio上，是可以正常运行的\n",
    "\n",
    "但是在本地\n",
    "\n",
    "ValueError: setting an array element with a sequence. The requested array has an inhomogeneous shape after 2 dimensions. The detected shape was (1, 2) + inhomogeneous part."
   ]
  },
  {
   "cell_type": "code",
   "execution_count": null,
   "metadata": {},
   "outputs": [],
   "source": []
  }
 ],
 "metadata": {
  "kernelspec": {
   "display_name": "Python 3",
   "language": "python",
   "name": "python3"
  },
  "language_info": {
   "codemirror_mode": {
    "name": "ipython",
    "version": 3
   },
   "file_extension": ".py",
   "mimetype": "text/x-python",
   "name": "python",
   "nbconvert_exporter": "python",
   "pygments_lexer": "ipython3",
   "version": "3.10.10"
  },
  "orig_nbformat": 4
 },
 "nbformat": 4,
 "nbformat_minor": 2
}
